{
 "cells": [
  {
   "cell_type": "markdown",
   "metadata": {},
   "source": [
    "# Utah Sunrise & Sunset Car Crash Data\n",
    "\n",
    "# Introduction\n",
    "The state of Utah has published a dataset containing information about car crashes over a period of more than four years. The goal of this project is to examine the statewide information in aggregate, and answer one primary question: Does the rising and setting of the sun have a meaningful influence on car crash frequency?\n",
    "\n",
    "The crash data for this project came from the [Utah Open Data Catalog](https://opendata.utah.gov/). This project uses the [State of Utah Crash Data 2015-2019](https://opendata.utah.gov/Public-Safety/State-of-Utah-Crash-Data-2015-2019/7ihm-46s4). The data for sunrise and sunset time was manually scraped from [Time and Date](https://www.timeanddate.com/sun/usa/salt-lake-city), using the data for Salt Lake City as an approximation for the whole state. \n",
    "\n",
    "# 1 Load Data\n",
    "## 1.1 Library Importing\n",
    "For this project, we will only need three packages, all part of the Tidyverse: dplyr for dataframe management, lubridate for dealing with datetimes, and ggplot2 for plotting the data."
   ]
  },
  {
   "cell_type": "code",
   "execution_count": null,
   "metadata": {},
   "outputs": [],
   "source": [
    "#import necessary libraries: dplyr, ggplot2, and lubridate\n",
    "library(dplyr)\n",
    "library(lubridate)\n",
    "library(ggplot2)"
   ]
  },
  {
   "cell_type": "markdown",
   "metadata": {},
   "source": [
    "## 1.2 Data Importing\n",
    "\n",
    "We will import the crash dataset, but only some of the columns (most of which are booleans). In addition to this, we will also need the dataset containing sunrise and sunset times for Utah. "
   ]
  },
  {
   "cell_type": "code",
   "execution_count": 2,
   "metadata": {},
   "outputs": [],
   "source": [
    "#define the data types of the colums\n",
    "col_types <- c('CRASH_DATE' = 'character', \n",
    "               'PEDESTRIAN' = 'logical', \n",
    "               'BICYCLIST_' = 'logical', \n",
    "               'MOTORCYCLE' = 'logical', \n",
    "               'IMPROPER_R' = 'logical', \n",
    "               'UNRESTRAIN' = 'logical', \n",
    "               'DUI' = 'logical', \n",
    "               'INTERSECTI' = 'logical', \n",
    "               'WILD_ANIMA' = 'logical', \n",
    "               'DOMESTIC_A' = 'logical', \n",
    "               'OVERTURN_R' = 'logical', \n",
    "               'COMMERCIAL' = 'logical', \n",
    "               'TEENAGE_DR' = 'logical', \n",
    "               'OLDER_DRIV' = 'logical', \n",
    "               'NIGHT_DARK' = 'logical', \n",
    "               'SINGLE_VEH' = 'logical', \n",
    "               'DISTRACTED' = 'logical', \n",
    "               'DROWSY_DRI' = 'logical', \n",
    "               'ROADWAY_DE' = 'logical')\n",
    "#import the csv using col_types as the columnClasses\n",
    "crash <- read.csv(\"State_of_Utah_Crash_Data_2015-2019.csv\", stringsAsFactors = TRUE, colClasses=col_types)\n",
    "SRSS_times <- read.csv(\"SLC_sun_schedule.csv\")"
   ]
  },
  {
   "cell_type": "markdown",
   "metadata": {},
   "source": [
    "## 1.3 Data Restructuring\n",
    "First we will convert the time to a more useable POSIXct, then we will extract features from the data, such as hour, date, and 15- or 13-minute block.  We will then join the two imported datasets on date (mm/dd)"
   ]
  },
  {
   "cell_type": "code",
   "execution_count": 3,
   "metadata": {},
   "outputs": [],
   "source": [
    "#convert CRASH_DATE column to datetime using format mm/dd/yyyy H:M:S AM/PM\n",
    "crash$CRASH_DATE <- as.POSIXct(crash$CRASH_DATE, tz = \"America/Denver\", format = \"%m/%d/%Y %I:%M:%S %p\")\n",
    "\n",
    "#create columns that contain the hour, clock time, and calendar day (w/o year) of the crash\n",
    "crash <- crash %>%\n",
    "    mutate(crash_hour = hour(CRASH_DATE)) %>%\n",
    "    mutate(crash_time = strftime(CRASH_DATE, format=\"%H:%M:%S\")) %>%\n",
    "    mutate(crash_day = strftime(CRASH_DATE, format=\"%m/%d\")) %>%\n",
    "    mutate(crash_time_15 = crash_hour + ((floor(minute(CRASH_DATE)/15))/4)) %>%\n",
    "    mutate(crash_time_30 = crash_hour + ((floor(minute(CRASH_DATE)/30))/2))\n",
    "\n",
    "#Use only columns 2 through 11 of the SRSS_times df\n",
    "SRSS_times <- SRSS_times[c(2:11)]\n",
    "\n",
    "#inner join the two dfs so SRSS data is attached to each crash\n",
    "crash_srss <- crash %>%\n",
    "    inner_join(SRSS_times, by = c(\"crash_day\" = \"Date2\"))"
   ]
  },
  {
   "cell_type": "markdown",
   "metadata": {},
   "source": [
    "We only want to deal with the \"clock time\" of the crash when comparing it to the time of sunrise or sunset. We can assing all morning crashes to a sunrise dataframe, and all evening crashes to a sunset dataframe."
   ]
  },
  {
   "cell_type": "code",
   "execution_count": 5,
   "metadata": {},
   "outputs": [],
   "source": [
    "#graph generic crash data (all crashes) for 2 hrs before and after sunrise and sunset (2 graphs)\n",
    "#create separate dfs for morning (crash_sr) and evening (crash_ss)\n",
    "crash_sr <- crash_srss %>%\n",
    "    filter(crash_hour <= 11)\n",
    "crash_ss <- crash_srss %>%\n",
    "    filter(crash_hour >= 12)\n",
    "\n",
    "#create a new column in both crash_sr and crash_ss dfs to indicate time difference between the crash\n",
    "#and sunrise or sunset\n",
    "crash_sr <- crash_sr %>%\n",
    "    mutate(sr_diff = strptime(Sunrise, format = \"%H:%M:%S\") - strptime(crash_time, format = \"%H:%M:%S\"))\n",
    "\n",
    "crash_ss <- crash_ss %>%\n",
    "    mutate(ss_diff = strptime(Sunset, format = \"%H:%M:%S\") - strptime(crash_time, format = \"%H:%M:%S\"))"
   ]
  },
  {
   "cell_type": "markdown",
   "metadata": {},
   "source": [
    "Find the difference between the time of the crash, and the sunrise or sunset event. Assign this values to either sr_diff or ss_diff. Filter for values that fall within 1 hour of the sunrise or sunset."
   ]
  },
  {
   "cell_type": "code",
   "execution_count": 6,
   "metadata": {},
   "outputs": [],
   "source": [
    "#for both dfs, convert drtn type to numeric, in units of minutes\n",
    "#filter for events that are between -60 and 60\n",
    "\n",
    "crash_sr$sr_diff <- as.numeric(crash_sr$sr_diff, units = \"mins\")\n",
    "\n",
    "crash_sr_narrow <- crash_sr %>%\n",
    "    filter(sr_diff >= -60 & sr_diff <= 59)\n",
    "\n",
    "crash_ss$ss_diff <- as.numeric(crash_ss$ss_diff, units = \"mins\")\n",
    "\n",
    "crash_ss_narrow <- crash_ss %>%\n",
    "    filter(ss_diff >= -60 & ss_diff <= 59)"
   ]
  },
  {
   "cell_type": "markdown",
   "metadata": {},
   "source": [
    "# 3 Visualization\n",
    "Plot each of these dataframes in a histogram, with the sunrise or sunset at the center of the x-axis."
   ]
  },
  {
   "cell_type": "code",
   "execution_count": 7,
   "metadata": {},
   "outputs": [
    {
     "data": {
      "image/png": "[encoded data removed]",
      "text/plain": [
       "plot without title"
      ]
     },
     "metadata": {
      "image/png": {
       "height": 420,
       "width": 420
      },
      "text/plain": {
       "height": 420,
       "width": 420
      }
     },
     "output_type": "display_data"
    },
    {
     "data": {
      "image/png": "[encoded data removed]",
      "text/plain": [
       "plot without title"
      ]
     },
     "metadata": {
      "image/png": {
       "height": 420,
       "width": 420
      },
      "text/plain": {
       "height": 420,
       "width": 420
      }
     },
     "output_type": "display_data"
    }
   ],
   "source": [
    "#graph the density plot of crashes around sunrise and sunset\n",
    "ggplot(crash_sr_narrow, aes(x = sr_diff))+\n",
    "    geom_histogram(binwidth = 2)+\n",
    "    scale_x_continuous(breaks = seq(-60, 60, by = 15))+\n",
    "    ylim(0, 700)\n",
    "\n",
    "ggplot(crash_ss_narrow, aes(x = ss_diff))+\n",
    "    geom_histogram(binwidth = 2)+\n",
    "    scale_x_continuous(breaks = seq(-60, 60, by = 15))+\n",
    "    ylim(0, 700)"
   ]
  },
  {
   "cell_type": "code",
   "execution_count": null,
   "metadata": {},
   "outputs": [],
   "source": []
  }
 ],
 "metadata": {
  "kernelspec": {
   "display_name": "R",
   "language": "R",
   "name": "ir"
  },
  "language_info": {
   "codemirror_mode": "r",
   "file_extension": ".r",
   "mimetype": "text/x-r-source",
   "name": "R",
   "pygments_lexer": "r",
   "version": "4.0.1"
  }
 },
 "nbformat": 4,
 "nbformat_minor": 4
}
