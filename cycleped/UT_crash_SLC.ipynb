{
 "cells": [
  {
   "cell_type": "markdown",
   "metadata": {},
   "source": [
    "<h1>Salt Lake City Cyclist & Pedestrian Safety</h1><br>\n",
    "The state of Utah has published a dataset containing information about car crashes over a period of more than four years covering the entire state. The goal of this project is to examine the data for Salt Lake City proper, and answer two primary questions:\n",
    "\n",
    "1. Does the frequency distribution of crashes involving cyclists and/or pedestrians track with the distibution of crashes in general for the city of Salt Lake?\n",
    "2. During what times is the likelihood of a crash involving a cyclist or pedestrian highest?\n",
    "\n",
    "The data for this project came from the [Utah Open Data Catalog](https://opendata.utah.gov/). This project uses the [State of Utah Crash Data 2015-2019](https://opendata.utah.gov/Public-Safety/State-of-Utah-Crash-Data-2015-2019/7ihm-46s4)."
   ]
  },
  {
   "cell_type": "code",
   "execution_count": null,
   "metadata": {},
   "outputs": [],
   "source": [
    "#import necessary libraries: dplyr, ggplot2, and lubridate\n",
    "library(dplyr)\n",
    "library(ggplot2)\n",
    "library(lubridate)\n",
    "library(ggthemes)\n",
    "library(gridExtra)"
   ]
  },
  {
   "cell_type": "code",
   "execution_count": 2,
   "metadata": {},
   "outputs": [],
   "source": [
    "#define the data types of the colums\n",
    "col_types <- c('CRASH_DATE' = 'character', \n",
    "               'PEDESTRIAN' = 'logical', \n",
    "               'BICYCLIST_' = 'logical', \n",
    "               'MOTORCYCLE' = 'logical', \n",
    "               'IMPROPER_R' = 'logical', \n",
    "               'UNRESTRAIN' = 'logical', \n",
    "               'DUI' = 'logical', \n",
    "               'INTERSECTI' = 'logical', \n",
    "               'WILD_ANIMA' = 'logical', \n",
    "               'DOMESTIC_A' = 'logical', \n",
    "               'OVERTURN_R' = 'logical', \n",
    "               'COMMERCIAL' = 'logical', \n",
    "               'TEENAGE_DR' = 'logical', \n",
    "               'OLDER_DRIV' = 'logical', \n",
    "               'NIGHT_DARK' = 'logical', \n",
    "               'SINGLE_VEH' = 'logical', \n",
    "               'DISTRACTED' = 'logical', \n",
    "               'DROWSY_DRI' = 'logical', \n",
    "               'ROADWAY_DE' = 'logical')\n",
    "#import the csv using col_types as the columnClasses\n",
    "crash <- read.csv(\"State_of_Utah_Crash_Data_2015-2019.csv\", stringsAsFactors = TRUE, colClasses=col_types)"
   ]
  },
  {
   "cell_type": "code",
   "execution_count": 3,
   "metadata": {},
   "outputs": [],
   "source": [
    "#convert CRASH_DATE column to datetime using format mm/dd/yyyy H:M:S AM/PM\n",
    "crash$CRASH_DATE <- as.POSIXct(crash$CRASH_DATE, tz = \"America/Denver\", format = \"%m/%d/%Y %I:%M:%S %p\")\n",
    "\n",
    "#create columns that contain the hour, clock time, and calendar day (w/o year) of the crash\n",
    "crash <- crash %>%\n",
    "    mutate(crash_hour = hour(CRASH_DATE)) %>%\n",
    "    mutate(crash_time = strftime(CRASH_DATE, format=\"%H:%M:%S\")) %>%\n",
    "    mutate(crash_day = strftime(CRASH_DATE, format=\"%m/%d\")) %>%\n",
    "    mutate(crash_time_15 = crash_hour + ((floor(minute(CRASH_DATE)/15))/4)) %>%\n",
    "    mutate(crash_time_30 = crash_hour + ((floor(minute(CRASH_DATE)/30))/2))"
   ]
  },
  {
   "cell_type": "code",
   "execution_count": 4,
   "metadata": {},
   "outputs": [],
   "source": [
    "#define a function that returns which other modes (omode) were involved in the crash\n",
    "bikeped <- function(bike, ped) {\n",
    "    if (bike == TRUE & ped == FALSE){\n",
    "        omode <- \"Bike & Car\"\n",
    "    }else if (bike == FALSE & ped == TRUE){\n",
    "        omode <- \"Pedestrian & Car\"\n",
    "    }else if (bike == TRUE & ped == TRUE){\n",
    "        omode <- \"Bike, Pedestrian, & Car\"\n",
    "    }else {\n",
    "        omode <- \"Car Only\"\n",
    "    }\n",
    "    return (omode)\n",
    "}\n",
    "\n",
    "#create a new column in df using bikeped fxn\n",
    "crash <- crash %>% rowwise %>%\n",
    "    mutate(modes = bikeped(BICYCLIST_, PEDESTRIAN))"
   ]
  },
  {
   "cell_type": "code",
   "execution_count": 5,
   "metadata": {},
   "outputs": [],
   "source": [
    "#keep only SLC events\n",
    "crash_slc <- crash %>%\n",
    "    filter(CITY == \"SALT LAKE CITY\")\n",
    "\n",
    "#plot density function for crashes in SLC, with color asigned by modes involved\n",
    "density <- ggplot(crash_slc, aes(x = crash_time_30, color = modes))+\n",
    "    geom_density(size = 1.5, kernel = 'gaussian')+\n",
    "    scale_x_continuous(breaks = seq(0, 24, by = 6))+\n",
    "    labs(title = \"Distribution of Crash Types by Hour\")+\n",
    "    xlab(\"crash hour\")+\n",
    "    ylab(\"density\")+\n",
    "    theme_few()+\n",
    "    theme(\n",
    "        plot.title = element_text(size = 14, hjust = 0.5),\n",
    "        legend.position = \"none\"\n",
    "    )\n"
   ]
  },
  {
   "cell_type": "code",
   "execution_count": 6,
   "metadata": {},
   "outputs": [],
   "source": [
    "#use a stacked bar chart to show the relative frequencies of the various modes in crashes\n",
    "pie <- ggplot(crash_slc, aes(x='', y=modes, fill=modes))+\n",
    "    geom_bar(width = 1, stat = \"identity\")+\n",
    "    theme_tufte()+\n",
    "    coord_polar(\"y\", start=0)+\n",
    "    theme_few()+\n",
    "    labs(title = \"Absolute Distribution\")+\n",
    "    theme(\n",
    "        axis.text.x = element_blank(),\n",
    "        axis.title = element_blank(),\n",
    "        rect = element_blank(),\n",
    "        legend.position = \"bottom\",\n",
    "        legend.direction = \"vertical\",\n",
    "        plot.title = element_text(size = 14, hjust = 0.5),\n",
    "        )"
   ]
  },
  {
   "cell_type": "code",
   "execution_count": 7,
   "metadata": {},
   "outputs": [
    {
     "data": {
      "image/png": "[encoded data removed]",
      "text/plain": [
       "plot without title"
      ]
     },
     "metadata": {
      "image/png": {
       "height": 420,
       "width": 420
      },
      "text/plain": {
       "height": 420,
       "width": 420
      }
     },
     "output_type": "display_data"
    }
   ],
   "source": [
    "multiplot <- grid.arrange(density, pie, widths = c(3, 1))\n",
    "\n",
    "ggsave(\"crash_multi.png\", multiplot, height = 6, width = 12)"
   ]
  },
  {
   "cell_type": "code",
   "execution_count": 8,
   "metadata": {},
   "outputs": [],
   "source": [
    "#create df only containing crashes that involve a bike or a ped, called crash_cycleped\n",
    "crash_slc_cycleped <- crash_slc %>%\n",
    "    filter(BICYCLIST_ == TRUE | PEDESTRIAN == TRUE)\n",
    "\n",
    "#count the number of crashes involving a bike or ped that occur for each hour\n",
    "cycleped_hourly_count <- crash_slc_cycleped %>%\n",
    "    count(crash_hour) %>%\n",
    "    rename(cycleped_n = n)\n",
    "\n",
    "#count the total number of crashes that occur in each hour, and drop the hour\n",
    "total_hourly_count <- crash_slc %>%\n",
    "    count(crash_hour) %>%\n",
    "    rename(total_n = n) %>%\n",
    "    select(total_n)\n",
    "\n",
    "#combine those data frames together into one\n",
    "combined_count <- cbind(cycleped_hourly_count, total_hourly_count)\n",
    "\n",
    "#create a new column that shows the percentage of crashes that involve a bike or ped\n",
    "combined_count <- combined_count %>%\n",
    "    mutate(cycleped_pct = cycleped_n / total_n * 100)"
   ]
  },
  {
   "cell_type": "code",
   "execution_count": 10,
   "metadata": {},
   "outputs": [
    {
     "data": {
      "image/png": "[encoded data removed]",
      "text/plain": [
       "plot without title"
      ]
     },
     "metadata": {
      "image/png": {
       "height": 420,
       "width": 420
      },
      "text/plain": {
       "height": 420,
       "width": 420
      }
     },
     "output_type": "display_data"
    }
   ],
   "source": [
    "#plot the percentage of bike/ped crashes over the day\n",
    "ggplot(combined_count, aes(x = crash_hour, y = cycleped_pct))+\n",
    "    geom_line(alpha = 0.5)+\n",
    "    stat_smooth(aes(x = crash_hour, y = cycleped_pct), method = lm, formula = y ~ poly(x, 10), se = FALSE)+ \n",
    "#    geom_smooth(formula = y ~ poly(x))\n",
    "    scale_x_continuous(breaks = seq(0, 24, by = 6))+\n",
    "    labs(title = \"Percentage of Crashes Involving a Cyclist or Pedestrian\")+\n",
    "    xlab(\"crash hour\")+\n",
    "    ylab(\"percentage\")+\n",
    "    theme_few()+\n",
    "    theme(\n",
    "        plot.title = element_text(size = 14, hjust = 0.5)\n",
    "    )\n",
    "\n",
    "ggsave(\"bikeped_freq.png\", height = 6, width = 6)"
   ]
  },
  {
   "cell_type": "code",
   "execution_count": null,
   "metadata": {},
   "outputs": [],
   "source": []
  }
 ],
 "metadata": {
  "kernelspec": {
   "display_name": "R",
   "language": "R",
   "name": "ir"
  },
  "language_info": {
   "codemirror_mode": "r",
   "file_extension": ".r",
   "mimetype": "text/x-r-source",
   "name": "R",
   "pygments_lexer": "r",
   "version": "4.0.1"
  }
 },
 "nbformat": 4,
 "nbformat_minor": 4
}
